{
 "cells": [
  {
   "cell_type": "markdown",
   "id": "eb8249a0-99b5-4fde-beb8-93e9f8bdc6c3",
   "metadata": {},
   "source": [
    "# Building an E-Commerce Clothing Classifier Model\n",
    "\n",
    "**Project Description**\n",
    "- Transform the retail industry with cutting-edge AI: develop an innovative clothing classification system to create a smarter, more efficient shopping experience.\n",
    "- Leveraging machine learning, you’ll make it easier to find the perfect outfit among a variety of choices, opening up new possibilities in the rapidly evolving digital fashion world.\n",
    "\n",
    "**Project Instructions**\n",
    "- Automate product tagging for the e-commerce store using CNNs.\n",
    "- Once trained (keeping the epochs to 1 or 2 to keep the run time down), store your predictions on the test set in a list named predictions.\n",
    "- Calculate the accuracy, and per-class precision and recall for your classifier based on the predictions obtained. Store your metrics in variables named accuracy, precision, and recall. Use lists of the appropriate length for the precision and recall."
   ]
  },
  {
   "cell_type": "markdown",
   "id": "aaa02648-9eae-45ba-893f-88440e8e4235",
   "metadata": {},
   "source": [
    "![clothing_classification](images/clothing_classification.png)\n"
   ]
  },
  {
   "cell_type": "markdown",
   "id": "ad5a988c-1095-485a-a88c-002400a872be",
   "metadata": {},
   "source": [
    "Fashion Forward is a new AI-based e-commerce clothing retailer.\n",
    "They want to use image classification to automatically categorize new product listings, making it easier for customers to find what they're looking for. It will also assist in inventory management by quickly sorting items.\n",
    "\n",
    "As a data scientist tasked with implementing a garment classifier, your primary objective is to develop a machine learning model capable of accurately categorizing images of clothing items into distinct garment types such as shirts, trousers, shoes, etc."
   ]
  },
  {
   "cell_type": "markdown",
   "id": "073f6635-1dee-4f1b-a10f-556064a2bedd",
   "metadata": {},
   "source": [
    "## 1. Prepare environment"
   ]
  },
  {
   "cell_type": "code",
   "execution_count": 1,
   "id": "ea8065b7-84fc-4376-afef-6db731dec4b3",
   "metadata": {
    "executionCancelledAt": null,
    "executionTime": 3827,
    "lastExecutedAt": 1713429494261,
    "lastExecutedByKernel": "613ad597-3acd-485b-b4bd-0a12e756578b",
    "lastScheduledRunId": null,
    "lastSuccessfullyExecutedCode": "import numpy as np\nimport torch\nimport torch.nn as nn\nimport torch.optim as optim\nfrom torch.utils.data import Dataset, DataLoader\nfrom torchmetrics import Accuracy, Precision, Recall"
   },
   "outputs": [],
   "source": [
    "# Importing libraries\n",
    "import matplotlib.pyplot as plt\n",
    "import numpy as np\n",
    "import pandas as pd\n",
    "\n",
    "import torch\n",
    "import torch.nn as nn\n",
    "import torch.optim as optim\n",
    "import torchvision.transforms as transforms\n",
    "\n",
    "from environment import prepare_environment\n",
    "\n",
    "from pprint import pprint\n",
    "from sklearn.metrics import confusion_matrix, ConfusionMatrixDisplay\n",
    "\n",
    "from torch.utils.data import DataLoader\n",
    "from torchmetrics import Precision, Recall, Accuracy\n",
    "from torchvision import datasets"
   ]
  },
  {
   "cell_type": "code",
   "execution_count": 2,
   "id": "24a7b852-373e-4dce-aefa-b261fcc04641",
   "metadata": {},
   "outputs": [
    {
     "name": "stdout",
     "output_type": "stream",
     "text": [
      "2.4.1+cu124\n",
      "Cuda is available? True\n",
      "Device: NVIDIA GeForce RTX 3050 Ti Laptop GPU\n",
      "\n",
      "CUDA memory device: 0\n",
      "CUDA cache  device: 0\n",
      "\n"
     ]
    }
   ],
   "source": [
    "# Check if your GPU driver and CUDA is enabled and accessible by PyTorch\n",
    "print(torch.__version__)\n",
    "print('Cuda is available?', torch.cuda.is_available())\n",
    "\n",
    "# returns you the name of the device\n",
    "GPU_DEVICE = torch.cuda.current_device()\n",
    "print('Device:', torch.cuda.get_device_name(GPU_DEVICE))  \n",
    "\n",
    "# Reviewing allocated memmory, it is 0 if there is nothing allocated\n",
    "print(f\"\"\"\n",
    "CUDA memory device: {torch.cuda.memory_allocated(GPU_DEVICE)}\n",
    "CUDA cache  device: {torch.cuda.memory_reserved(GPU_DEVICE)}\n",
    "\"\"\")"
   ]
  },
  {
   "cell_type": "code",
   "execution_count": 3,
   "id": "662e1bf1-943f-4243-9fd4-02ce11609e8d",
   "metadata": {
    "executionCancelledAt": null,
    "executionTime": 6117,
    "lastExecutedAt": 1713429500380,
    "lastExecutedByKernel": "613ad597-3acd-485b-b4bd-0a12e756578b",
    "lastScheduledRunId": null,
    "lastSuccessfullyExecutedCode": "# Load datasets\nfrom torchvision import datasets\nimport torchvision.transforms as transforms\n\ntrain_data = datasets.FashionMNIST(root='./data', train=True, download=True, transform=transforms.ToTensor())\ntest_data = datasets.FashionMNIST(root='./data', train=False, download=True, transform=transforms.ToTensor())",
    "outputsMetadata": {
     "0": {
      "height": 80,
      "type": "stream"
     },
     "1": {
      "height": 38,
      "type": "stream"
     },
     "2": {
      "height": 122,
      "type": "stream"
     },
     "3": {
      "height": 38,
      "type": "stream"
     },
     "4": {
      "height": 122,
      "type": "stream"
     },
     "5": {
      "height": 38,
      "type": "stream"
     },
     "6": {
      "height": 122,
      "type": "stream"
     },
     "7": {
      "height": 38,
      "type": "stream"
     },
     "8": {
      "height": 59,
      "type": "stream"
     }
    }
   },
   "outputs": [],
   "source": [
    "# Global variables\n",
    "SEED = 42\n",
    "\n",
    "GPU_DEVICE = torch.cuda.current_device()\n",
    "\n",
    "MODEL_IMAGE_CLASSIFIER = \"artifacts/clothing-classifier.pth\""
   ]
  },
  {
   "cell_type": "code",
   "execution_count": 4,
   "id": "ff355914-577e-4f69-9196-d15a3572f54d",
   "metadata": {},
   "outputs": [],
   "source": [
    "# Global configuration\n",
    "prepare_environment()\n",
    "\n",
    "torch.set_printoptions(precision=10)\n",
    "torch.set_default_dtype(torch.float32)\n",
    "\n",
    "# Reproducibility\n",
    "np.random.seed(SEED)\n",
    "_ = torch.manual_seed(SEED)"
   ]
  },
  {
   "cell_type": "markdown",
   "id": "7dace924-6675-43da-a94f-a7b6a4755ef4",
   "metadata": {},
   "source": [
    "## 2. Read data"
   ]
  },
  {
   "cell_type": "code",
   "execution_count": 5,
   "id": "2c59e1c0-c5a7-402f-88a6-6b01e7ebfea9",
   "metadata": {},
   "outputs": [],
   "source": [
    "train_data = datasets.FashionMNIST(root='./data', train=True, download=True, \n",
    "                                   transform=transforms.ToTensor())\n",
    "test_data = datasets.FashionMNIST(root='./data', train=False, download=True, \n",
    "                                  transform=transforms.ToTensor())"
   ]
  },
  {
   "cell_type": "code",
   "execution_count": 6,
   "id": "549aa768-ec1b-4ec7-bdde-1f41708c6ad0",
   "metadata": {},
   "outputs": [
    {
     "name": "stdout",
     "output_type": "stream",
     "text": [
      "\n",
      "Samples in train data: \n",
      "Dataset FashionMNIST\n",
      "    Number of datapoints: 60000\n",
      "    Root location: ./data\n",
      "    Split: Train\n",
      "    StandardTransform\n",
      "Transform: ToTensor()\n",
      "\n",
      "Samples in test data:\n",
      "Dataset FashionMNIST\n",
      "    Number of datapoints: 10000\n",
      "    Root location: ./data\n",
      "    Split: Test\n",
      "    StandardTransform\n",
      "Transform: ToTensor()\n",
      "\n",
      "Type: <class 'torchvision.datasets.mnist.FashionMNIST'>\n",
      "\n"
     ]
    }
   ],
   "source": [
    "# Reviewing the dataset\n",
    "print(f'''\n",
    "Samples in train data: \n",
    "{train_data}\n",
    "\n",
    "Samples in test data:\n",
    "{test_data}\n",
    "\n",
    "Type: {type(train_data)}\n",
    "''')"
   ]
  },
  {
   "cell_type": "code",
   "execution_count": 7,
   "id": "e16517f9-4f9b-4a99-aaec-14435f829fbc",
   "metadata": {},
   "outputs": [
    {
     "name": "stdout",
     "output_type": "stream",
     "text": [
      "Data Structure:\n",
      "(tensor([[[0.0000000000, 0.0000000000, 0.0000000000, 0.0000000000, 0.0000000000,\n",
      "          0.0000000000, 0.0000000000, 0.0000000000, 0.0000000000, 0.0000000000,\n",
      "          0.0000000000, 0.0000000000, 0.0000000000, 0.0000000000, 0.0000000000,\n",
      "          0.0000000000, 0.0000000000, 0.0000000000, 0.0000000000, 0.0000000000,\n",
      "          0.0000000000, 0.0000000000, 0.0000000000, 0.0000000000, 0.0000000000,\n",
      "          0.0000000000, 0.0000000000, 0.0000000000],\n",
      "         [0.0000000000, 0.0000000000, 0.0000000000, 0.0000000000, 0.0000000000,\n",
      "          0.0000000000, 0.0000000000, 0.0000000000, 0.0000000000, 0.0000000000,\n",
      "          0.0000000000, 0.0000000000, 0.0000000000, 0.0000000000, 0.0000000000,\n",
      "          0.0000000000, 0.0000000000, 0.0000000000, 0.0000000000, 0.0000000000,\n",
      "          0.0000000000, 0.0000000000, 0.0000000000, 0.0000000000, 0.0000000000,\n",
      "          0.0000000000, 0.0000000000, 0.0000000000],\n",
      "         [0.0000000000, 0.0000000000, 0.0000000000, 0.0000000000, 0.0000000000,\n",
      "          0.0000000000, 0.0000000000, 0.0000000000, 0.0000000000, 0.0000000000,\n",
      "          0.0000000000, 0.0000000000, 0.0000000000, 0.0000000000, 0.0000000000,\n",
      "          0.0000000000, 0.0000000000, 0.0000000000, 0.0000000000, 0.0000000000,\n",
      "          0.0000000000, 0.0000000000, 0.0000000000, 0.0000000000, 0.0000000000,\n",
      "          0.0000000000, 0.0000000000, 0.0000000000],\n",
      "         [0.0000000000, 0.0000000000, 0.0000000000, 0.0000000000, 0.0000000000,\n",
      "          0.0000000000, 0.0000000000, 0.0000000000, 0.0000000000, 0.0000000000,\n",
      "          0.0000000000, 0.0000000000, 0.0039215689, 0.0000000000, 0.0000000000,\n",
      "          0.0509803928, 0.2862745225, 0.0000000000, 0.0000000000, 0.0039215689,\n",
      "          0.0156862754, 0.0000000000, 0.0000000000, 0.0000000000, 0.0000000000,\n",
      "          0.0039215689, 0.0039215689, 0.0000000000],\n",
      "         [0.0000000000, 0.0000000000, 0.0000000000, 0.0000000000, 0.0000000000,\n",
      "          0.0000000000, 0.0000000000, 0.0000000000, 0.0000000000, 0.0000000000,\n",
      "          0.0000000000, 0.0000000000, 0.0117647061, 0.0000000000, 0.1411764771,\n",
      "          0.5333333611, 0.4980392158, 0.2431372553, 0.2117647082, 0.0000000000,\n",
      "          0.0000000000, 0.0000000000, 0.0039215689, 0.0117647061, 0.0156862754,\n",
      "          0.0000000000, 0.0000000000, 0.0117647061],\n",
      "         [0.0000000000, 0.0000000000, 0.0000000000, 0.0000000000, 0.0000000000,\n",
      "          0.0000000000, 0.0000000000, 0.0000000000, 0.0000000000, 0.0000000000,\n",
      "          0.0000000000, 0.0000000000, 0.0235294122, 0.0000000000, 0.4000000060,\n",
      "          0.8000000119, 0.6901960969, 0.5254902244, 0.5647059083, 0.4823529422,\n",
      "          0.0901960805, 0.0000000000, 0.0000000000, 0.0000000000, 0.0000000000,\n",
      "          0.0470588244, 0.0392156877, 0.0000000000],\n",
      "         [0.0000000000, 0.0000000000, 0.0000000000, 0.0000000000, 0.0000000000,\n",
      "          0.0000000000, 0.0000000000, 0.0000000000, 0.0000000000, 0.0000000000,\n",
      "          0.0000000000, 0.0000000000, 0.0000000000, 0.0000000000, 0.6078431606,\n",
      "          0.9254902005, 0.8117647171, 0.6980392337, 0.4196078479, 0.6117647290,\n",
      "          0.6313725710, 0.4274509847, 0.2509804070, 0.0901960805, 0.3019607961,\n",
      "          0.5098039508, 0.2823529541, 0.0588235296],\n",
      "         [0.0000000000, 0.0000000000, 0.0000000000, 0.0000000000, 0.0000000000,\n",
      "          0.0000000000, 0.0000000000, 0.0000000000, 0.0000000000, 0.0000000000,\n",
      "          0.0000000000, 0.0039215689, 0.0000000000, 0.2705882490, 0.8117647171,\n",
      "          0.8745098114, 0.8549019694, 0.8470588326, 0.8470588326, 0.6392157078,\n",
      "          0.4980392158, 0.4745098054, 0.4784313738, 0.5725490451, 0.5529412031,\n",
      "          0.3450980484, 0.6745098233, 0.2588235438],\n",
      "         [0.0000000000, 0.0000000000, 0.0000000000, 0.0000000000, 0.0000000000,\n",
      "          0.0000000000, 0.0000000000, 0.0000000000, 0.0000000000, 0.0039215689,\n",
      "          0.0039215689, 0.0039215689, 0.0000000000, 0.7843137383, 0.9098039269,\n",
      "          0.9098039269, 0.9137254953, 0.8980392218, 0.8745098114, 0.8745098114,\n",
      "          0.8431372643, 0.8352941275, 0.6431372762, 0.4980392158, 0.4823529422,\n",
      "          0.7686274648, 0.8980392218, 0.0000000000],\n",
      "         [0.0000000000, 0.0000000000, 0.0000000000, 0.0000000000, 0.0000000000,\n",
      "          0.0000000000, 0.0000000000, 0.0000000000, 0.0000000000, 0.0000000000,\n",
      "          0.0000000000, 0.0000000000, 0.0000000000, 0.7176470757, 0.8823529482,\n",
      "          0.8470588326, 0.8745098114, 0.8941176534, 0.9215686321, 0.8901960850,\n",
      "          0.8784313798, 0.8705882430, 0.8784313798, 0.8666666746, 0.8745098114,\n",
      "          0.9607843161, 0.6784313917, 0.0000000000],\n",
      "         [0.0000000000, 0.0000000000, 0.0000000000, 0.0000000000, 0.0000000000,\n",
      "          0.0000000000, 0.0000000000, 0.0000000000, 0.0000000000, 0.0000000000,\n",
      "          0.0000000000, 0.0000000000, 0.0000000000, 0.7568627596, 0.8941176534,\n",
      "          0.8549019694, 0.8352941275, 0.7764706016, 0.7058823705, 0.8313725591,\n",
      "          0.8235294223, 0.8274509907, 0.8352941275, 0.8745098114, 0.8627451062,\n",
      "          0.9529411793, 0.7921568751, 0.0000000000],\n",
      "         [0.0000000000, 0.0000000000, 0.0000000000, 0.0000000000, 0.0000000000,\n",
      "          0.0000000000, 0.0000000000, 0.0000000000, 0.0000000000, 0.0039215689,\n",
      "          0.0117647061, 0.0000000000, 0.0470588244, 0.8588235378, 0.8627451062,\n",
      "          0.8313725591, 0.8549019694, 0.7529411912, 0.6627451181, 0.8901960850,\n",
      "          0.8156862855, 0.8549019694, 0.8784313798, 0.8313725591, 0.8862745166,\n",
      "          0.7725490332, 0.8196078539, 0.2039215714],\n",
      "         [0.0000000000, 0.0000000000, 0.0000000000, 0.0000000000, 0.0000000000,\n",
      "          0.0000000000, 0.0000000000, 0.0000000000, 0.0000000000, 0.0000000000,\n",
      "          0.0235294122, 0.0000000000, 0.3882353008, 0.9568627477, 0.8705882430,\n",
      "          0.8627451062, 0.8549019694, 0.7960784435, 0.7764706016, 0.8666666746,\n",
      "          0.8431372643, 0.8352941275, 0.8705882430, 0.8627451062, 0.9607843161,\n",
      "          0.4666666687, 0.6549019814, 0.2196078449],\n",
      "         [0.0000000000, 0.0000000000, 0.0000000000, 0.0000000000, 0.0000000000,\n",
      "          0.0000000000, 0.0000000000, 0.0000000000, 0.0000000000, 0.0156862754,\n",
      "          0.0000000000, 0.0000000000, 0.2156862766, 0.9254902005, 0.8941176534,\n",
      "          0.9019607902, 0.8941176534, 0.9411764741, 0.9098039269, 0.8352941275,\n",
      "          0.8549019694, 0.8745098114, 0.9176470637, 0.8509804010, 0.8509804010,\n",
      "          0.8196078539, 0.3607843220, 0.0000000000],\n",
      "         [0.0000000000, 0.0000000000, 0.0039215689, 0.0156862754, 0.0235294122,\n",
      "          0.0274509806, 0.0078431377, 0.0000000000, 0.0000000000, 0.0000000000,\n",
      "          0.0000000000, 0.0000000000, 0.9294117689, 0.8862745166, 0.8509804010,\n",
      "          0.8745098114, 0.8705882430, 0.8588235378, 0.8705882430, 0.8666666746,\n",
      "          0.8470588326, 0.8745098114, 0.8980392218, 0.8431372643, 0.8549019694,\n",
      "          1.0000000000, 0.3019607961, 0.0000000000],\n",
      "         [0.0000000000, 0.0117647061, 0.0000000000, 0.0000000000, 0.0000000000,\n",
      "          0.0000000000, 0.0000000000, 0.0000000000, 0.0000000000, 0.2431372553,\n",
      "          0.5686274767, 0.8000000119, 0.8941176534, 0.8117647171, 0.8352941275,\n",
      "          0.8666666746, 0.8549019694, 0.8156862855, 0.8274509907, 0.8549019694,\n",
      "          0.8784313798, 0.8745098114, 0.8588235378, 0.8431372643, 0.8784313798,\n",
      "          0.9568627477, 0.6235294342, 0.0000000000],\n",
      "         [0.0000000000, 0.0000000000, 0.0000000000, 0.0000000000, 0.0705882385,\n",
      "          0.1725490242, 0.3215686381, 0.4196078479, 0.7411764860, 0.8941176534,\n",
      "          0.8627451062, 0.8705882430, 0.8509804010, 0.8862745166, 0.7843137383,\n",
      "          0.8039215803, 0.8274509907, 0.9019607902, 0.8784313798, 0.9176470637,\n",
      "          0.6901960969, 0.7372549176, 0.9803921580, 0.9725490212, 0.9137254953,\n",
      "          0.9333333373, 0.8431372643, 0.0000000000],\n",
      "         [0.0000000000, 0.2235294133, 0.7333333492, 0.8156862855, 0.8784313798,\n",
      "          0.8666666746, 0.8784313798, 0.8156862855, 0.8000000119, 0.8392156959,\n",
      "          0.8156862855, 0.8196078539, 0.7843137383, 0.6235294342, 0.9607843161,\n",
      "          0.7568627596, 0.8078431487, 0.8745098114, 1.0000000000, 1.0000000000,\n",
      "          0.8666666746, 0.9176470637, 0.8666666746, 0.8274509907, 0.8627451062,\n",
      "          0.9098039269, 0.9647058845, 0.0000000000],\n",
      "         [0.0117647061, 0.7921568751, 0.8941176534, 0.8784313798, 0.8666666746,\n",
      "          0.8274509907, 0.8274509907, 0.8392156959, 0.8039215803, 0.8039215803,\n",
      "          0.8039215803, 0.8627451062, 0.9411764741, 0.3137255013, 0.5882353187,\n",
      "          1.0000000000, 0.8980392218, 0.8666666746, 0.7372549176, 0.6039215922,\n",
      "          0.7490196228, 0.8235294223, 0.8000000119, 0.8196078539, 0.8705882430,\n",
      "          0.8941176534, 0.8823529482, 0.0000000000],\n",
      "         [0.3843137324, 0.9137254953, 0.7764706016, 0.8235294223, 0.8705882430,\n",
      "          0.8980392218, 0.8980392218, 0.9176470637, 0.9764705896, 0.8627451062,\n",
      "          0.7607843280, 0.8431372643, 0.8509804010, 0.9450980425, 0.2549019754,\n",
      "          0.2862745225, 0.4156862795, 0.4588235319, 0.6588235497, 0.8588235378,\n",
      "          0.8666666746, 0.8431372643, 0.8509804010, 0.8745098114, 0.8745098114,\n",
      "          0.8784313798, 0.8980392218, 0.1137254909],\n",
      "         [0.2941176593, 0.8000000119, 0.8313725591, 0.8000000119, 0.7568627596,\n",
      "          0.8039215803, 0.8274509907, 0.8823529482, 0.8470588326, 0.7254902124,\n",
      "          0.7725490332, 0.8078431487, 0.7764706016, 0.8352941275, 0.9411764741,\n",
      "          0.7647058964, 0.8901960850, 0.9607843161, 0.9372549057, 0.8745098114,\n",
      "          0.8549019694, 0.8313725591, 0.8196078539, 0.8705882430, 0.8627451062,\n",
      "          0.8666666746, 0.9019607902, 0.2627451122],\n",
      "         [0.1882352978, 0.7960784435, 0.7176470757, 0.7607843280, 0.8352941275,\n",
      "          0.7725490332, 0.7254902124, 0.7450980544, 0.7607843280, 0.7529411912,\n",
      "          0.7921568751, 0.8392156959, 0.8588235378, 0.8666666746, 0.8627451062,\n",
      "          0.9254902005, 0.8823529482, 0.8470588326, 0.7803921700, 0.8078431487,\n",
      "          0.7294117808, 0.7098039389, 0.6941176653, 0.6745098233, 0.7098039389,\n",
      "          0.8039215803, 0.8078431487, 0.4509803951],\n",
      "         [0.0000000000, 0.4784313738, 0.8588235378, 0.7568627596, 0.7019608021,\n",
      "          0.6705882549, 0.7176470757, 0.7686274648, 0.8000000119, 0.8235294223,\n",
      "          0.8352941275, 0.8117647171, 0.8274509907, 0.8235294223, 0.7843137383,\n",
      "          0.7686274648, 0.7607843280, 0.7490196228, 0.7647058964, 0.7490196228,\n",
      "          0.7764706016, 0.7529411912, 0.6901960969, 0.6117647290, 0.6549019814,\n",
      "          0.6941176653, 0.8235294223, 0.3607843220],\n",
      "         [0.0000000000, 0.0000000000, 0.2901960909, 0.7411764860, 0.8313725591,\n",
      "          0.7490196228, 0.6862745285, 0.6745098233, 0.6862745285, 0.7098039389,\n",
      "          0.7254902124, 0.7372549176, 0.7411764860, 0.7372549176, 0.7568627596,\n",
      "          0.7764706016, 0.8000000119, 0.8196078539, 0.8235294223, 0.8235294223,\n",
      "          0.8274509907, 0.7372549176, 0.7372549176, 0.7607843280, 0.7529411912,\n",
      "          0.8470588326, 0.6666666865, 0.0000000000],\n",
      "         [0.0078431377, 0.0000000000, 0.0000000000, 0.0000000000, 0.2588235438,\n",
      "          0.7843137383, 0.8705882430, 0.9294117689, 0.9372549057, 0.9490196109,\n",
      "          0.9647058845, 0.9529411793, 0.9568627477, 0.8666666746, 0.8627451062,\n",
      "          0.7568627596, 0.7490196228, 0.7019608021, 0.7137255073, 0.7137255073,\n",
      "          0.7098039389, 0.6901960969, 0.6509804130, 0.6588235497, 0.3882353008,\n",
      "          0.2274509817, 0.0000000000, 0.0000000000],\n",
      "         [0.0000000000, 0.0000000000, 0.0000000000, 0.0000000000, 0.0000000000,\n",
      "          0.0000000000, 0.0000000000, 0.1568627506, 0.2392156869, 0.1725490242,\n",
      "          0.2823529541, 0.1607843190, 0.1372549087, 0.0000000000, 0.0000000000,\n",
      "          0.0000000000, 0.0000000000, 0.0000000000, 0.0000000000, 0.0000000000,\n",
      "          0.0000000000, 0.0000000000, 0.0000000000, 0.0000000000, 0.0000000000,\n",
      "          0.0000000000, 0.0000000000, 0.0000000000],\n",
      "         [0.0000000000, 0.0000000000, 0.0000000000, 0.0000000000, 0.0000000000,\n",
      "          0.0000000000, 0.0000000000, 0.0000000000, 0.0000000000, 0.0000000000,\n",
      "          0.0000000000, 0.0000000000, 0.0000000000, 0.0000000000, 0.0000000000,\n",
      "          0.0000000000, 0.0000000000, 0.0000000000, 0.0000000000, 0.0000000000,\n",
      "          0.0000000000, 0.0000000000, 0.0000000000, 0.0000000000, 0.0000000000,\n",
      "          0.0000000000, 0.0000000000, 0.0000000000],\n",
      "         [0.0000000000, 0.0000000000, 0.0000000000, 0.0000000000, 0.0000000000,\n",
      "          0.0000000000, 0.0000000000, 0.0000000000, 0.0000000000, 0.0000000000,\n",
      "          0.0000000000, 0.0000000000, 0.0000000000, 0.0000000000, 0.0000000000,\n",
      "          0.0000000000, 0.0000000000, 0.0000000000, 0.0000000000, 0.0000000000,\n",
      "          0.0000000000, 0.0000000000, 0.0000000000, 0.0000000000, 0.0000000000,\n",
      "          0.0000000000, 0.0000000000, 0.0000000000]]]), 9)\n"
     ]
    }
   ],
   "source": [
    "print('Data Structure:')\n",
    "print(train_data[0])"
   ]
  },
  {
   "cell_type": "code",
   "execution_count": 8,
   "id": "e33dc542-1b4c-40d4-a378-8bce76373714",
   "metadata": {},
   "outputs": [
    {
     "name": "stdout",
     "output_type": "stream",
     "text": [
      "Categories:\n",
      "{'T-shirt/top': 0, 'Trouser': 1, 'Pullover': 2, 'Dress': 3, 'Coat': 4, 'Sandal': 5, 'Shirt': 6, 'Sneaker': 7, 'Bag': 8, 'Ankle boot': 9}\n",
      "{0: 'T-shirt/top',\n",
      " 1: 'Trouser',\n",
      " 2: 'Pullover',\n",
      " 3: 'Dress',\n",
      " 4: 'Coat',\n",
      " 5: 'Sandal',\n",
      " 6: 'Shirt',\n",
      " 7: 'Sneaker',\n",
      " 8: 'Bag',\n",
      " 9: 'Ankle boot'}\n"
     ]
    }
   ],
   "source": [
    "print('Categories:')\n",
    "print(train_data.class_to_idx)\n",
    "\n",
    "clothes_categories = {v: k for k, v in train_data.class_to_idx.items()}\n",
    "pprint(clothes_categories)"
   ]
  },
  {
   "cell_type": "code",
   "execution_count": 9,
   "id": "523b1080-7a03-46c2-9736-2cc20bfeff3f",
   "metadata": {},
   "outputs": [
    {
     "name": "stdout",
     "output_type": "stream",
     "text": [
      "torch.Size([1, 28, 28])\n",
      "Image reshaped torch.Size([28, 28, 1])\n"
     ]
    },
    {
     "data": {
      "image/png": "[encoded data removed]",
      "text/plain": [
       "<Figure size 200x200 with 1 Axes>"
      ]
     },
     "metadata": {},
     "output_type": "display_data"
    }
   ],
   "source": [
    "# Reviewing image kind\n",
    "i = np.random.randint(0, 60000)\n",
    "image, label = train_data[i]\n",
    "print(image.shape)\n",
    "\n",
    "# image = image[0]\n",
    "# print(\"Data point:\", image.shape)\n",
    "# image = image.squeeze()\n",
    "image = image.permute(1, 2, 0)\n",
    "print(\"Image reshaped\", image.shape)\n",
    "fig = plt.figure(figsize=(2, 2))\n",
    "plt.title(clothes_categories[label])\n",
    "plt.axis('off')\n",
    "plt.imshow(image, cmap='gray')\n",
    "plt.show()"
   ]
  },
  {
   "cell_type": "markdown",
   "id": "0487b7b5-3e22-408a-bc55-587edff3b652",
   "metadata": {},
   "source": [
    "## 3. Get dataloader"
   ]
  },
  {
   "cell_type": "code",
   "execution_count": 10,
   "id": "41a42d3e-c32f-41c9-9789-b32b2964d815",
   "metadata": {},
   "outputs": [],
   "source": [
    "# Create a DataLoader based on dataset_train\n",
    "dataloader_train = DataLoader(train_data, batch_size=50, shuffle=True)\n",
    "dataloader_test = DataLoader(test_data, batch_size=50, shuffle=True)"
   ]
  },
  {
   "cell_type": "markdown",
   "id": "e8265115-3404-4c5c-9257-5f3b36fbc262",
   "metadata": {},
   "source": [
    "## 4. Build model"
   ]
  },
  {
   "cell_type": "code",
   "execution_count": 11,
   "id": "1fef7f5f-a2ba-44bb-93fd-886f534e6f5f",
   "metadata": {},
   "outputs": [],
   "source": [
    "# Build the classifier model\n",
    "num_classes = len(clothes_categories.keys())\n",
    "class ClotheClassifierModel(nn.Module):\n",
    "    \"\"\"Image Classifier model for clothing categorizing.\n",
    "    \"\"\"\n",
    "    def __init__(self, \n",
    "                 num_classes:int=num_classes, \n",
    "                 seed:int=SEED) -> None:\n",
    "        super().__init__()\n",
    "        torch.manual_seed(SEED)\n",
    "        \n",
    "        self.feature_extractor = nn.Sequential(             # Img input: 1X28X28 (channel,w,h)\n",
    "            nn.Conv2d(1, 16, \n",
    "                      kernel_size=3, stride=1, padding=1),  # In ch=1, out ch=16 → 16X28X28\n",
    "            nn.ELU(),                                       # No Changes → 16X28X28\n",
    "            nn.MaxPool2d(kernel_size=2),                    # Divide image size by 2 → 16X14X14\n",
    "            nn.Flatten(),                                   # Flatten image → 16X14X14\n",
    "        )\n",
    "        self.classifier = nn.Linear(16*14*14, num_classes)\n",
    "        \n",
    "    def forward(self, x:torch.Tensor) -> torch.Tensor:\n",
    "        x = self.feature_extractor(x)\n",
    "        x = self.classifier(x)\n",
    "        return x"
   ]
  },
  {
   "cell_type": "code",
   "execution_count": 12,
   "id": "ea227aea-b6dd-4c60-81c9-08f954c60a49",
   "metadata": {},
   "outputs": [
    {
     "name": "stdout",
     "output_type": "stream",
     "text": [
      "Are we using GPU? False\n",
      "\n",
      "ClotheClassifierModel(\n",
      "  (feature_extractor): Sequential(\n",
      "    (0): Conv2d(1, 16, kernel_size=(3, 3), stride=(1, 1), padding=(1, 1))\n",
      "    (1): ELU(alpha=1.0)\n",
      "    (2): MaxPool2d(kernel_size=2, stride=2, padding=0, dilation=1, ceil_mode=False)\n",
      "    (3): Flatten(start_dim=1, end_dim=-1)\n",
      "  )\n",
      "  (classifier): Linear(in_features=3136, out_features=10, bias=True)\n",
      ")\n"
     ]
    }
   ],
   "source": [
    "# Build the model\n",
    "model = ClotheClassifierModel()\n",
    "print(f\"Are we using GPU? {next(model.parameters()).is_cuda}\\n\")\n",
    "print(model)\n",
    "\n",
    "# Set the criterion and teh optimizer\n",
    "criterion = nn.CrossEntropyLoss()\n",
    "optimizer = optim.Adam(model.parameters(), lr=0.001)  # weight_decay=1e-4"
   ]
  },
  {
   "cell_type": "markdown",
   "id": "93c9cfed-aa08-4cc8-bf39-215ca450c24e",
   "metadata": {},
   "source": [
    "## 5. Train model"
   ]
  },
  {
   "cell_type": "code",
   "execution_count": 13,
   "id": "75b391fa-c942-47ef-bab4-5e01b78083bd",
   "metadata": {},
   "outputs": [
    {
     "name": "stdout",
     "output_type": "stream",
     "text": [
      "Epoch 1, Loss: 0.487837\n",
      "Epoch 2, Loss: 0.356945\n",
      "Epoch 3, Loss: 0.320481\n",
      "Epoch 4, Loss: 0.295947\n",
      "Epoch 5, Loss: 0.278657\n"
     ]
    }
   ],
   "source": [
    "# Train the model\n",
    "losses = []\n",
    "epochs = 5\n",
    "\n",
    "model.train()\n",
    "for epoch in range(epochs):\n",
    "    running_loss = 0.0\n",
    "    \n",
    "    for X, y in dataloader_train:    # Get feature and target from the data loader\n",
    "        optimizer.zero_grad()        # zero the parameter gradients\n",
    "        y_out = model(X)             # Run a forward pass\n",
    "        loss = criterion(y_out, y)   # Compute loss\n",
    "        loss.backward()              # Backward pass\n",
    "        optimizer.step()             # Optimization\n",
    "        running_loss += loss.item()\n",
    "\n",
    "    epoch_loss = running_loss / len(dataloader_train)\n",
    "    losses.append(epoch_loss)        # Record the loss per epoch\n",
    "    print(f\"Epoch {epoch+1}, Loss: {epoch_loss:.6f}\")"
   ]
  },
  {
   "cell_type": "code",
   "execution_count": 14,
   "id": "3f8bb68b-a9d3-449f-9bf4-821d5e59d5dd",
   "metadata": {},
   "outputs": [
    {
     "name": "stdout",
     "output_type": "stream",
     "text": [
      "\n",
      "y_out: tensor([ -1.1081143618,  -4.1637082100,   4.2062954903,  -0.1901845038,\n",
      "          5.5388460159, -15.6727142334,   7.0854635239, -18.9746856689,\n",
      "         -2.1263461113, -14.4011688232], grad_fn=<SelectBackward0>)\n",
      "y    : 6\n",
      "\n"
     ]
    }
   ],
   "source": [
    "print(f\"\"\"\n",
    "y_out: {y_out[0]}\n",
    "y    : {y[0]}\n",
    "\"\"\")"
   ]
  },
  {
   "cell_type": "code",
   "execution_count": 15,
   "id": "0bc4765d-d2be-4755-98eb-08c7335b4bfd",
   "metadata": {},
   "outputs": [
    {
     "data": {
      "image/png": "[encoded data removed]",
      "text/plain": [
       "<Figure size 1000x400 with 1 Axes>"
      ]
     },
     "metadata": {},
     "output_type": "display_data"
    }
   ],
   "source": [
    "# Visualizing the loss in training set\n",
    "fig = plt.figure(figsize=(10, 4))\n",
    "plt.plot(range(epochs), losses)\n",
    "plt.title(\"Training Loss over Epochs\")\n",
    "plt.xlabel('Epochs')\n",
    "plt.ylabel('Loss')\n",
    "plt.show()"
   ]
  },
  {
   "cell_type": "markdown",
   "id": "d3a6befb-1eed-4146-b398-0437b17cdbeb",
   "metadata": {},
   "source": [
    "## 6. Save model"
   ]
  },
  {
   "cell_type": "code",
   "execution_count": 16,
   "id": "b921e4ff-eab8-446f-924f-1e2d2a143cd7",
   "metadata": {},
   "outputs": [],
   "source": [
    "# Saving the model\n",
    "torch.save(model, MODEL_IMAGE_CLASSIFIER)"
   ]
  },
  {
   "cell_type": "code",
   "execution_count": 17,
   "id": "5ae1856d-dde6-43d9-912d-d8ef40c61ee5",
   "metadata": {},
   "outputs": [],
   "source": [
    "# Load the model\n",
    "model = torch.load(MODEL_IMAGE_CLASSIFIER, weights_only=False)"
   ]
  },
  {
   "cell_type": "markdown",
   "id": "bac52110-ef9f-4c6a-b800-3c4da145d226",
   "metadata": {},
   "source": [
    "## 7. Evaluate model"
   ]
  },
  {
   "cell_type": "code",
   "execution_count": 18,
   "id": "e6cbaeee-5b22-4964-97fd-e2d18783df8d",
   "metadata": {},
   "outputs": [],
   "source": [
    "# Set the evaluation metrics\n",
    "# Globally\n",
    "metric_accuracy = Accuracy(task=\"multiclass\", num_classes=num_classes)\n",
    "# Per class\n",
    "metric_precision = Precision(task=\"multiclass\", num_classes=num_classes, average=None)                               \n",
    "metric_recall = Recall(task=\"multiclass\", num_classes=num_classes, average=None)\n",
    "\n",
    "# Evaluation loop\n",
    "targets = torch.empty(0)\n",
    "predictions = torch.empty(0)\n",
    "model.eval()\n",
    "with torch.no_grad():\n",
    "    for images, labels in dataloader_test:\n",
    "        outputs = model(images)\n",
    "        _, preds = torch.max(outputs, dim=1)\n",
    "        targets = torch.cat([targets, labels])\n",
    "        predictions = torch.cat([predictions, preds])\n",
    "        metric_accuracy(preds, labels)\n",
    "        metric_precision(preds, labels)\n",
    "        metric_recall(preds, labels)\n",
    "accuracy = metric_accuracy.compute()\n",
    "precision = metric_precision.compute()\n",
    "recall = metric_recall.compute()"
   ]
  },
  {
   "cell_type": "markdown",
   "id": "9798d451-3132-4c2f-9336-8f0fce55fc27",
   "metadata": {},
   "source": [
    "## 8. Review results"
   ]
  },
  {
   "cell_type": "code",
   "execution_count": 19,
   "id": "6d85d35f-2516-43af-8776-c591acd7e953",
   "metadata": {},
   "outputs": [
    {
     "name": "stdout",
     "output_type": "stream",
     "text": [
      "Accuracy: 0.8895000219345093\n",
      "Precision:\n",
      "{'Ankle boot': 0.9752832055091858,\n",
      " 'Bag': 0.9866392612457275,\n",
      " 'Coat': 0.8147029280662537,\n",
      " 'Dress': 0.8937875628471375,\n",
      " 'Pullover': 0.8186274766921997,\n",
      " 'Sandal': 0.9846153855323792,\n",
      " 'Shirt': 0.6875621676445007,\n",
      " 'Sneaker': 0.9252601861953735,\n",
      " 'T-shirt/top': 0.8333333134651184,\n",
      " 'Trouser': 0.9857434034347534}\n",
      "Recall:\n",
      "{'Ankle boot': 0.9470000267028809,\n",
      " 'Bag': 0.9599999785423279,\n",
      " 'Coat': 0.8090000152587891,\n",
      " 'Dress': 0.8920000195503235,\n",
      " 'Pullover': 0.8349999785423279,\n",
      " 'Sandal': 0.9599999785423279,\n",
      " 'Shirt': 0.6909999847412109,\n",
      " 'Sneaker': 0.9779999852180481,\n",
      " 'T-shirt/top': 0.8550000190734863,\n",
      " 'Trouser': 0.9679999947547913}\n"
     ]
    }
   ],
   "source": [
    "# Print computed metrics\n",
    "precision_per_class = {k: precision[v].item() for k, v in test_data.class_to_idx.items()}\n",
    "recall_per_class = {k: recall[v].item() for k, v in test_data.class_to_idx.items()}\n",
    "\n",
    "print('Accuracy:', accuracy.item())\n",
    "print(f\"Precision:\")\n",
    "pprint(precision_per_class)\n",
    "print(f\"Recall:\")\n",
    "pprint(recall_per_class)"
   ]
  },
  {
   "cell_type": "code",
   "execution_count": 20,
   "id": "0e900959-dafc-4b1e-85a5-9008023b5b09",
   "metadata": {},
   "outputs": [
    {
     "data": {
      "image/png": "[encoded data removed]",
      "text/plain": [
       "<Figure size 640x480 with 2 Axes>"
      ]
     },
     "metadata": {},
     "output_type": "display_data"
    }
   ],
   "source": [
    "cm = confusion_matrix(targets.numpy(), predictions.numpy())\n",
    "_ = ConfusionMatrixDisplay(confusion_matrix=cm).plot()"
   ]
  },
  {
   "cell_type": "code",
   "execution_count": 21,
   "id": "de8ecfb6-4daf-49ce-83ff-89a437c91a9a",
   "metadata": {},
   "outputs": [
    {
     "data": {
      "text/html": [
       "<div>\n",
       "<style scoped>\n",
       "    .dataframe tbody tr th:only-of-type {\n",
       "        vertical-align: middle;\n",
       "    }\n",
       "\n",
       "    .dataframe tbody tr th {\n",
       "        vertical-align: top;\n",
       "    }\n",
       "\n",
       "    .dataframe thead th {\n",
       "        text-align: right;\n",
       "    }\n",
       "</style>\n",
       "<table border=\"1\" class=\"dataframe\">\n",
       "  <thead>\n",
       "    <tr style=\"text-align: right;\">\n",
       "      <th></th>\n",
       "      <th>Original Label</th>\n",
       "      <th>Predicted Label</th>\n",
       "      <th>Accerted</th>\n",
       "    </tr>\n",
       "  </thead>\n",
       "  <tbody>\n",
       "    <tr>\n",
       "      <th>0</th>\n",
       "      <td>1.0</td>\n",
       "      <td>1.0</td>\n",
       "      <td>True</td>\n",
       "    </tr>\n",
       "    <tr>\n",
       "      <th>1</th>\n",
       "      <td>0.0</td>\n",
       "      <td>6.0</td>\n",
       "      <td></td>\n",
       "    </tr>\n",
       "    <tr>\n",
       "      <th>2</th>\n",
       "      <td>2.0</td>\n",
       "      <td>2.0</td>\n",
       "      <td>True</td>\n",
       "    </tr>\n",
       "    <tr>\n",
       "      <th>3</th>\n",
       "      <td>7.0</td>\n",
       "      <td>7.0</td>\n",
       "      <td>True</td>\n",
       "    </tr>\n",
       "    <tr>\n",
       "      <th>4</th>\n",
       "      <td>9.0</td>\n",
       "      <td>9.0</td>\n",
       "      <td>True</td>\n",
       "    </tr>\n",
       "    <tr>\n",
       "      <th>...</th>\n",
       "      <td>...</td>\n",
       "      <td>...</td>\n",
       "      <td>...</td>\n",
       "    </tr>\n",
       "    <tr>\n",
       "      <th>9995</th>\n",
       "      <td>9.0</td>\n",
       "      <td>9.0</td>\n",
       "      <td>True</td>\n",
       "    </tr>\n",
       "    <tr>\n",
       "      <th>9996</th>\n",
       "      <td>5.0</td>\n",
       "      <td>5.0</td>\n",
       "      <td>True</td>\n",
       "    </tr>\n",
       "    <tr>\n",
       "      <th>9997</th>\n",
       "      <td>1.0</td>\n",
       "      <td>3.0</td>\n",
       "      <td></td>\n",
       "    </tr>\n",
       "    <tr>\n",
       "      <th>9998</th>\n",
       "      <td>8.0</td>\n",
       "      <td>8.0</td>\n",
       "      <td>True</td>\n",
       "    </tr>\n",
       "    <tr>\n",
       "      <th>9999</th>\n",
       "      <td>2.0</td>\n",
       "      <td>2.0</td>\n",
       "      <td>True</td>\n",
       "    </tr>\n",
       "  </tbody>\n",
       "</table>\n",
       "<p>10000 rows × 3 columns</p>\n",
       "</div>"
      ],
      "text/plain": [
       "      Original Label  Predicted Label Accerted\n",
       "0                1.0              1.0     True\n",
       "1                0.0              6.0         \n",
       "2                2.0              2.0     True\n",
       "3                7.0              7.0     True\n",
       "4                9.0              9.0     True\n",
       "...              ...              ...      ...\n",
       "9995             9.0              9.0     True\n",
       "9996             5.0              5.0     True\n",
       "9997             1.0              3.0         \n",
       "9998             8.0              8.0     True\n",
       "9999             2.0              2.0     True\n",
       "\n",
       "[10000 rows x 3 columns]"
      ]
     },
     "execution_count": 21,
     "metadata": {},
     "output_type": "execute_result"
    }
   ],
   "source": [
    "pd.DataFrame({\n",
    "    'Original Label': targets.numpy(),\n",
    "    'Predicted Label': predictions.numpy(),\n",
    "    'Accerted': ['True' \n",
    "                 if targets.numpy()[i] == predictions.numpy()[i]\n",
    "                 else ''\n",
    "                 for i in range(len(targets))] \n",
    "})"
   ]
  },
  {
   "cell_type": "markdown",
   "id": "0b587e34-3dee-4ca3-929d-d647200cc55b",
   "metadata": {},
   "source": [
    "## 9. Close environment"
   ]
  },
  {
   "cell_type": "code",
   "execution_count": 22,
   "id": "7d8fbe0c-82fb-475e-a6bb-f1adc937f9bb",
   "metadata": {},
   "outputs": [
    {
     "name": "stdout",
     "output_type": "stream",
     "text": [
      "\n",
      "CUDA memory device: 0\n",
      "CUDA cache  device: 0\n",
      "\n"
     ]
    }
   ],
   "source": [
    "# Reviewing allocated memmory, it is 0 if there is nothing allocated\n",
    "cuda_memory = torch.cuda.memory_allocated(GPU_DEVICE)\n",
    "cuda_cache = torch.cuda.memory_reserved(GPU_DEVICE)\n",
    "print(f\"\"\"\n",
    "CUDA memory device: {cuda_memory}\n",
    "CUDA cache  device: {cuda_cache}\n",
    "\"\"\")\n",
    "\n",
    "# Free allocated memory\n",
    "torch.cuda.empty_cache() "
   ]
  },
  {
   "cell_type": "markdown",
   "id": "40af9c7d-c39a-430c-8b7c-c738cf95290c",
   "metadata": {},
   "source": [
    "---------------------------------"
   ]
  }
 ],
 "metadata": {
  "colab": {
   "name": "Welcome to DataCamp Workspaces.ipynb",
   "provenance": []
  },
  "kernelspec": {
   "display_name": "Python 3 (ipykernel)",
   "language": "python",
   "name": "python3"
  },
  "language_info": {
   "codemirror_mode": {
    "name": "ipython",
    "version": 3
   },
   "file_extension": ".py",
   "mimetype": "text/x-python",
   "name": "python",
   "nbconvert_exporter": "python",
   "pygments_lexer": "ipython3",
   "version": "3.8.19"
  }
 },
 "nbformat": 4,
 "nbformat_minor": 5
}
